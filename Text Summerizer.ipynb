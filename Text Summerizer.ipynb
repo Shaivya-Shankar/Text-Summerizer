{
 "cells": [
  {
   "cell_type": "markdown",
   "metadata": {},
   "source": [
    "\n",
    "# Text summariser \n",
    " **Made By Shaivya Shankar**\n",
    "* Here text summeriser function has been made which     when any  input it will summary of the whole text  but before summerizing it it will first ask for a an input  from the User "
   ]
  },
  {
   "cell_type": "code",
   "execution_count": 138,
   "metadata": {},
   "outputs": [],
   "source": [
    "import re\n",
    "import nltk\n",
    "import pandas as pd \n",
    "import re\n",
    "import string\n",
    "import heapq"
   ]
  },
  {
   "cell_type": "markdown",
   "metadata": {},
   "source": [
    "***Importing the files***"
   ]
  },
  {
   "cell_type": "code",
   "execution_count": 139,
   "metadata": {},
   "outputs": [],
   "source": [
    "df = pd.read_excel (r'TASK.xlsx')\n",
    "df = pd.DataFrame(df)"
   ]
  },
  {
   "cell_type": "markdown",
   "metadata": {},
   "source": [
    "***performing the exploratory Data analysis***"
   ]
  },
  {
   "cell_type": "code",
   "execution_count": 140,
   "metadata": {},
   "outputs": [
    {
     "data": {
      "text/html": [
       "<div>\n",
       "<style scoped>\n",
       "    .dataframe tbody tr th:only-of-type {\n",
       "        vertical-align: middle;\n",
       "    }\n",
       "\n",
       "    .dataframe tbody tr th {\n",
       "        vertical-align: top;\n",
       "    }\n",
       "\n",
       "    .dataframe thead th {\n",
       "        text-align: right;\n",
       "    }\n",
       "</style>\n",
       "<table border=\"1\" class=\"dataframe\">\n",
       "  <thead>\n",
       "    <tr style=\"text-align: right;\">\n",
       "      <th></th>\n",
       "      <th>Unnamed: 0</th>\n",
       "      <th>Introduction</th>\n",
       "    </tr>\n",
       "  </thead>\n",
       "  <tbody>\n",
       "    <tr>\n",
       "      <td>0</td>\n",
       "      <td>NaN</td>\n",
       "      <td>Acnesol Gel is an antibiotic that fights bacte...</td>\n",
       "    </tr>\n",
       "    <tr>\n",
       "      <td>1</td>\n",
       "      <td>NaN</td>\n",
       "      <td>Ambrodil Syrup is used for treating various re...</td>\n",
       "    </tr>\n",
       "    <tr>\n",
       "      <td>2</td>\n",
       "      <td>NaN</td>\n",
       "      <td>Augmentin 625 Duo Tablet is a penicillin-type ...</td>\n",
       "    </tr>\n",
       "    <tr>\n",
       "      <td>3</td>\n",
       "      <td>NaN</td>\n",
       "      <td>Azithral 500 Tablet is an antibiotic used to t...</td>\n",
       "    </tr>\n",
       "    <tr>\n",
       "      <td>4</td>\n",
       "      <td>NaN</td>\n",
       "      <td>Alkasol Oral Solution is a medicine used in th...</td>\n",
       "    </tr>\n",
       "  </tbody>\n",
       "</table>\n",
       "</div>"
      ],
      "text/plain": [
       "   Unnamed: 0                                       Introduction\n",
       "0         NaN  Acnesol Gel is an antibiotic that fights bacte...\n",
       "1         NaN  Ambrodil Syrup is used for treating various re...\n",
       "2         NaN  Augmentin 625 Duo Tablet is a penicillin-type ...\n",
       "3         NaN  Azithral 500 Tablet is an antibiotic used to t...\n",
       "4         NaN  Alkasol Oral Solution is a medicine used in th..."
      ]
     },
     "execution_count": 140,
     "metadata": {},
     "output_type": "execute_result"
    }
   ],
   "source": [
    "#displaying first 4 rows of the data set\n",
    "df.head()"
   ]
  },
  {
   "cell_type": "code",
   "execution_count": 141,
   "metadata": {},
   "outputs": [],
   "source": [
    "##droping the column which is completly not available\n",
    "df = df.drop('Unnamed: 0', 1)"
   ]
  },
  {
   "cell_type": "code",
   "execution_count": 142,
   "metadata": {},
   "outputs": [
    {
     "data": {
      "text/html": [
       "<div>\n",
       "<style scoped>\n",
       "    .dataframe tbody tr th:only-of-type {\n",
       "        vertical-align: middle;\n",
       "    }\n",
       "\n",
       "    .dataframe tbody tr th {\n",
       "        vertical-align: top;\n",
       "    }\n",
       "\n",
       "    .dataframe thead th {\n",
       "        text-align: right;\n",
       "    }\n",
       "</style>\n",
       "<table border=\"1\" class=\"dataframe\">\n",
       "  <thead>\n",
       "    <tr style=\"text-align: right;\">\n",
       "      <th></th>\n",
       "      <th>Introduction</th>\n",
       "    </tr>\n",
       "  </thead>\n",
       "  <tbody>\n",
       "    <tr>\n",
       "      <td>0</td>\n",
       "      <td>Acnesol Gel is an antibiotic that fights bacte...</td>\n",
       "    </tr>\n",
       "    <tr>\n",
       "      <td>1</td>\n",
       "      <td>Ambrodil Syrup is used for treating various re...</td>\n",
       "    </tr>\n",
       "    <tr>\n",
       "      <td>2</td>\n",
       "      <td>Augmentin 625 Duo Tablet is a penicillin-type ...</td>\n",
       "    </tr>\n",
       "    <tr>\n",
       "      <td>3</td>\n",
       "      <td>Azithral 500 Tablet is an antibiotic used to t...</td>\n",
       "    </tr>\n",
       "    <tr>\n",
       "      <td>4</td>\n",
       "      <td>Alkasol Oral Solution is a medicine used in th...</td>\n",
       "    </tr>\n",
       "  </tbody>\n",
       "</table>\n",
       "</div>"
      ],
      "text/plain": [
       "                                        Introduction\n",
       "0  Acnesol Gel is an antibiotic that fights bacte...\n",
       "1  Ambrodil Syrup is used for treating various re...\n",
       "2  Augmentin 625 Duo Tablet is a penicillin-type ...\n",
       "3  Azithral 500 Tablet is an antibiotic used to t...\n",
       "4  Alkasol Oral Solution is a medicine used in th..."
      ]
     },
     "execution_count": 142,
     "metadata": {},
     "output_type": "execute_result"
    }
   ],
   "source": [
    "df.head()"
   ]
  },
  {
   "cell_type": "code",
   "execution_count": 143,
   "metadata": {},
   "outputs": [
    {
     "data": {
      "text/plain": [
       "Introduction    object\n",
       "dtype: object"
      ]
     },
     "execution_count": 143,
     "metadata": {},
     "output_type": "execute_result"
    }
   ],
   "source": [
    "df.dtypes"
   ]
  },
  {
   "cell_type": "markdown",
   "metadata": {},
   "source": [
    "### Function for cleaning the data "
   ]
  },
  {
   "cell_type": "code",
   "execution_count": 144,
   "metadata": {},
   "outputs": [],
   "source": [
    "def process_text(raw_text):\n",
    "    raw_text=[char for char in raw_text if char not in '\\xa0']\n",
    "    raw_text = ''.join(raw_text)\n",
    "    ##removing the strings that are within ( ) breces\n",
    "    raw_text = re.sub(\"[\\(\\[].*?[\\)\\]]\", \"\",raw_text)\n",
    "    \n",
    "    return raw_text\n",
    "    "
   ]
  },
  {
   "cell_type": "markdown",
   "metadata": {},
   "source": [
    "### Cleaing the Data  \n",
    " "
   ]
  },
  {
   "cell_type": "code",
   "execution_count": 126,
   "metadata": {},
   "outputs": [
    {
     "data": {
      "text/plain": [
       "0      Acnesol Gel is an antibiotic that fights bacte...\n",
       "1      Ambrodil Syrup is used for treating various re...\n",
       "2      Augmentin 625 Duo Tablet is a penicillin-type ...\n",
       "3      Azithral 500 Tablet is an antibiotic used to t...\n",
       "4      Alkasol Oral Solution is a medicine used in th...\n",
       "                             ...                        \n",
       "995    Azapure Tablet belongs to a group of medicines...\n",
       "996    Arimidex 1mg Tablet  is used alone or with oth...\n",
       "997    Arpimune ME 100mg Capsule is used to prevent y...\n",
       "998    Amlodac CH Tablet is a combination medicine us...\n",
       "999    Angizem CD 120 Capsule ER is used to treat ang...\n",
       "Name: Introduction, Length: 1000, dtype: object"
      ]
     },
     "execution_count": 126,
     "metadata": {},
     "output_type": "execute_result"
    }
   ],
   "source": [
    "df[\"Introduction\"].apply(process_text)\n"
   ]
  },
  {
   "cell_type": "markdown",
   "metadata": {},
   "source": [
    "## Text summerizer function \n",
    " **key Points about the Function**\n",
    " * It takes two inputs one is Text input and  other is  summary lenght\n",
    " * Summary Length Here depicts the number of sentences a summary will have\n",
    " * It tokenizes the input acording to sentences.It also tokenizes the the input interms of word also.\n",
    " * Calculates the word frequency of each and every word.\n",
    " * Then Calculates the weighted friquency of each words.\n",
    " * Then scores each sentence by adding the weighted frequency of words it has.\n",
    " * End it prints out the Summary"
   ]
  },
  {
   "cell_type": "code",
   "execution_count": 158,
   "metadata": {},
   "outputs": [],
   "source": [
    "def Tex_summerizer(raw,n):\n",
    "    sen_token=nltk.sent_tokenize(raw)## sentece tokenizer\n",
    "    word_tokens=nltk.word_tokenize(raw)## word tokenizer\n",
    "    stopword=nltk.corpus.stopwords.words('english') ## importing stopword form nltk (eg a , an , the ..etc )\n",
    "    word_frequencies={}## keeps a count of each words \n",
    "## Counted the frequency of each words in input \n",
    "    for word in word_tokens:\n",
    "        if word not in stopword:\n",
    "            if word not in word_frequencies.keys():\n",
    "                word_frequencies[word] = 1 \n",
    "            else :\n",
    "                word_frequencies[word] += 1\n",
    "\n",
    "##Calculated the weighted frequency\n",
    "    maximum_frequency_word = max(word_frequencies.values())\n",
    "    for word in word_frequencies.keys():\n",
    "        word_frequencies[word]=(word_frequencies[word]/maximum_frequency_word)\n",
    "    ## calculated sentece score with each word weighted frequencysentences_scores={}\n",
    "    for sentence in sen_token :\n",
    "        for word in nltk.word_tokenize(sentence.lower()) :\n",
    "            if word in word_frequencies.keys():\n",
    "                if ( len (sentence.split(' '))) < 30 :\n",
    "                    if sentence not in sentences_scores.keys():\n",
    "                        sentences_scores[sentence] = word_frequencies[word]\n",
    "                    else :\n",
    "                        sentences_scores[sentence] += word_frequencies[word]\n",
    "    summary= heapq.nlargest(3,sentences_scores,key=sentences_scores.get)\n",
    "    print(''.join(summary))"
   ]
  },
  {
   "cell_type": "code",
   "execution_count": null,
   "metadata": {},
   "outputs": [],
   "source": []
  },
  {
   "cell_type": "code",
   "execution_count": 167,
   "metadata": {},
   "outputs": [
    {
     "name": "stdout",
     "output_type": "stream",
     "text": [
      "Enter the Medicne number 0\n",
      "Acnesol Gel is an antibiotic that fights bacteria. It is used to treat acne, which appears as spots or pimples on your face, chest or back. This medicine works by attacking the bacteria that cause these pimples.Acnesol Gel is only meant for external use and should be used as advised by your doctor. You should normally wash and dry the affected area before applying a thin layer of the medicine. It should not be applied to broken or damaged skin. Avoid any contact with your eyes, nose, or mouth. Rinse it off with water if you accidentally get it in these areas. It may take several weeks for your symptoms to improve, but you should keep using this medicine regularly. Do not stop using it as soon as your acne starts to get better. Ask your doctor when you should stop treatment.Common side effects like minor itching, burning, or redness of the skin and oily skin may be seen in some people. These are usually temporary and resolve on their own. Consult your doctor if they bother you or do not go away.It is a safe medicine, but you should inform your doctor if you have any problems with your bowels (intestines). Also, inform the doctor if you have ever had bloody diarrhea caused by taking antibiotics or if you are using any other medicines to treat skin conditions. Consult your doctor about using this medicine if you are pregnant or breastfeeding.\n",
      "*******************************************X************************************************************\n",
      "Enter the summary length you want for example  1 , 2 , 3 3\n",
      " \n",
      " \n",
      " \n",
      "                                         Summary\n",
      " \n",
      " \n",
      " \n",
      "It is advised not to use it for more than 14 days without doctor consultation.The most common side effects of this medicine include vomiting, nausea, and stomach upset.Your doctor should also know about all other medicines you are taking as many of these may make this medicine less effective or change the way it works.It works by thinning and loosens mucus in the nose, windpipe and lungs and make it easier to cough out.Ambrodil Syrup should be taken with food.\n"
     ]
    }
   ],
   "source": [
    "med = int( input(\"Enter the Medicne number \"))\n",
    "print(df[\"Introduction\"].iloc[med])\n",
    "print(\"*******************************************X************************************************************\")\n",
    "n = int( input(\"Enter the summary length you want for example  1 , 2 , 3 \"))\n",
    "print(\" \")\n",
    "print(\" \")\n",
    "print(\" \")\n",
    "print(\"                                         Summary\")\n",
    "print(\" \")\n",
    "print(\" \")\n",
    "print(\" \")\n",
    "Tex_summerizer(df[\"Introduction\"].iloc[med],n)\n"
   ]
  },
  {
   "cell_type": "code",
   "execution_count": null,
   "metadata": {},
   "outputs": [],
   "source": []
  },
  {
   "cell_type": "code",
   "execution_count": null,
   "metadata": {},
   "outputs": [],
   "source": [
    " "
   ]
  }
 ],
 "metadata": {
  "kernelspec": {
   "display_name": "Python 3",
   "language": "python",
   "name": "python3"
  },
  "language_info": {
   "codemirror_mode": {
    "name": "ipython",
    "version": 3
   },
   "file_extension": ".py",
   "mimetype": "text/x-python",
   "name": "python",
   "nbconvert_exporter": "python",
   "pygments_lexer": "ipython3",
   "version": "3.7.4"
  }
 },
 "nbformat": 4,
 "nbformat_minor": 2
}
